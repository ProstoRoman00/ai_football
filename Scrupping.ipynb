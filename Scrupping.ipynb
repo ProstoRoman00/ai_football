{
 "cells": [
  {
   "cell_type": "code",
   "execution_count": 9,
   "metadata": {
    "pycharm": {
     "is_executing": false
    },
    "scrolled": true
   },
   "outputs": [],
   "source": [
    "import time\n",
    "import csv\n",
    "import re\n",
    "from selenium import webdriver\n",
    "from selenium.webdriver.support.ui import WebDriverWait\n",
    "from selenium.webdriver.support import expected_conditions as EC\n",
    "from selenium.webdriver.common.by import By\n",
    "from bs4 import BeautifulSoup\n",
    "global browser \n",
    "browser = webdriver.Chrome(executable_path=r\"J:\\Projects\\chrome\\chromedriver.exe\")\n",
    "browser.get(\"https://www.whoscored.com/\")\n",
    "soup = BeautifulSoup(browser.page_source, 'html.parser')"
   ]
  },
  {
   "cell_type": "code",
   "execution_count": 2,
   "metadata": {},
   "outputs": [],
   "source": [
    "def getTeamInfo(team):\n",
    "    teamInfo=[]\n",
    "    timeout=100\n",
    "    browser.get(\"https://www.whoscored.com/\"+team.a['href'])\n",
    "    element_present = EC.presence_of_element_located((By.CLASS_NAME, 'rating'))\n",
    "    WebDriverWait(browser, timeout).until(element_present)\n",
    "    soup = BeautifulSoup(browser.page_source, 'html.parser')\n",
    "    time.sleep(2)\n",
    "    #GET TEAM TITLE\n",
    "    teamName=soup.find('span', class_ = 'team-header-name').getText()\n",
    "    \n",
    "    #GET TEAM RATING\n",
    "    teamInfo.append(soup.find('div', class_ = 'rating').getText())\n",
    "    \n",
    "    #GET LAST 6 GAMES RESULT\n",
    "    game=soup.find_all('tr', class_ = 'item')\n",
    "    for i in range(0,6):\n",
    "        try:\n",
    "            score=list(map(int, game[i].find(\"a\",class_ =\"result-1 rc\").getText().replace('*','').split(\":\")))\n",
    "            if(game[i].find(\"a\",class_ =\"team-link\").getText()==teamName):\n",
    "                teamInfo.append(score[0])\n",
    "                teamInfo.append(score[1])\n",
    "            else:\n",
    "                teamInfo.append(score[1])\n",
    "                teamInfo.append(score[0])\n",
    "        except:\n",
    "            teamInfo.append(0)\n",
    "            teamInfo.append(0)\n",
    "            \n",
    "    #GET TEAM AVERAGE STATS IN LAST GAMES\n",
    "    teamAverage=soup.find('dl', class_ = 'stats').find_all('dd')\n",
    "    teamInfo.append(teamAverage[2].getText())\n",
    "    teamInfo.append(teamAverage[3].getText().replace('%',''))\n",
    "    teamInfo.append(teamAverage[4].getText().replace('%',''))\n",
    "    teamInfo.append(teamAverage[5].getText())\n",
    "    #GET TEAM PLAYERS RATINGS\n",
    "    playerList=soup.find_all('span', {'class':['player-rating rc', 'player-rating rc formOverlay-marker']})\n",
    "    for player in playerList:\n",
    "        teamInfo.append(re.sub('[^0-9.]','', player.getText()[:4]))\n",
    "    time.sleep(1)\n",
    "    print(teamInfo)\n",
    "    return teamInfo"
   ]
  },
  {
   "cell_type": "code",
   "execution_count": 3,
   "metadata": {},
   "outputs": [],
   "source": [
    "games_list = soup.find_all('tr', class_ = 'match')\n",
    "gameTFile=[]\n",
    "gamesToReport=[]"
   ]
  },
  {
   "cell_type": "code",
   "execution_count": 6,
   "metadata": {
    "scrolled": true
   },
   "outputs": [
    {
     "name": "stdout",
     "output_type": "stream",
     "text": [
      "['6.68', 0, 0, 1, 0, 2, 1, 0, 1, 1, 1, 0, 3, '1.2', '48.5', '77.4', '12.6', '6.5', '6.7', '7.3', '6.5', '7.1', '6.9', '6.7', '6.4', '7.5', '7.3', '7']\n",
      "['6.63', 1, 2, 1, 1, 0, 1, 0, 2, 0, 3, 2, 0, '1.1', '46.1', '77.1', '12', '6.5', '7.1', '7', '6.9', '6.7', '6.6', '7.1', '6.9', '6.8', '6.8', '7.5']\n",
      "['6.89', 0, 0, 0, 1, 1, 2, 3, 0, 1, 1, 1, 4, '1.9', '55', '82.7', '13.9', '6.7', '7.5', '7', '7.3', '6.8', '7', '6.8', '7', '7.1', '7.3', '7.1']\n",
      "['6.75', 0, 3, 1, 2, 3, 1, 1, 1, 1, 0, 3, 0, '1.1', '44.5', '74.4', '9.5', '6.7', '6.8', '6.8', '6.9', '6.9', '6.9', '6.8', '6.9', '7', '7.2', '6.8']\n",
      "['6.69', 2, 0, 0, 4, 0, 1, 0, 3, 2, 3, 0, 2, '0.9', '46.4', '76.3', '9.8', '6.4', '6.5', '6.5', '6.7', '6.7', '6.6', '6.6', '6.8', '6.9', '6.7', '7']\n",
      "['6.82', 3, 0, 2, 1, 3, 0, 5, 2, 3, 0, 2, 2, '1.7', '54.5', '83.4', '14.5', '6.4', '7.1', '7', '7.1', '6.7', '7', '6.7', '7.2', '7.4', '8.1', '7.4']\n",
      "['6.69', 3, 0, 0, 2, 3, 1, 1, 0, 1, 1, 2, 2, '1.3', '48.1', '72.5', '12.8', '6.7', '6.8', '6.7', '7.3', '6.5', '7', '7.2', '7.1', '7.4', '7', '7']\n",
      "['6.63', 2, 1, 0, 0, 0, 3, 1, 0, 1, 3, 0, 5, '1', '52', '81.2', '12.2', '6.6', '6.5', '6.7', '6.7', '6.8', '6.8', '7.6', '6.7', '6.8', '6.9', '7']\n",
      "['6.58', 1, 0, 2, 1, 0, 2, 0, 1, 0, 0, 2, 0, '1', '47', '69.1', '11.3', '6.3', '6.7', '7', '6.8', '6.8', '6.8', '6.9', '7', '6.4', '6.6', '6.5']\n",
      "['6.57', 1, 1, 1, 1, 0, 0, 1, 0, 1, 2, 0, 1, '0.8', '46.2', '74.5', '9.6', '6.5', '6.6', '6.8', '6.6', '6.7', '6.8', '6.8', '6.4', '6.4', '6.6', '6.6']\n",
      "['6.62', 1, 1, 2, 1, 0, 1, 0, 0, 1, 3, 0, 0, '1.2', '46', '61.9', '10.7', '6.4', '6.8', '7', '6.7', '6.6', '6.7', '7.1', '6.7', '6.7', '6.5', '6.8']\n",
      "['6.78', 1, 0, 2, 1, 2, 2, 3, 0, 1, 1, 1, 0, '1.3', '48.7', '78.9', '12', '6.5', '7', '6.8', '7.1', '6.6', '6.8', '6.6', '7.3', '7.2', '6.8', '7']\n",
      "['6.52', 0, 2, 1, 3, 5, 1, 0, 3, 2, 0, 0, 2, '1', '45.9', '77.3', '10.8', '7', '6.3', '6.5', '6.5', '6.5', '6.3', '6.9', '6.7', '6.9', '6.5', '6.2']\n",
      "['6.63', 0, 0, 1, 2, 2, 0, 2, 2, 3, 2, 1, 2, '1.3', '45.3', '71.3', '10.3', '6.8', '6.9', '6.3', '6.9', '6.6', '6.8', '6.8', '7.1', '6.5', '6.9', '7.1']\n",
      "['6.98', 2, 0, 1, 0, 1, 0, 1, 0, 2, 0, 2, 1, '1.8', '57.1', '86.8', '15.1', '6.9', '7.2', '7.4', '7.5', '7', '7.2', '7', '7.3', '7.6', '6.8', '7.7']\n",
      "['6.75', 2, 2, 2, 0, 2, 0, 1, 4, 3, 1, 1, 2, '1.6', '52.4', '82.4', '13.2', '6.9', '7', '6.6', '6.9', '6.6', '6.6', '6.6', '7.4', '7.1', '7.7', '7.2']\n",
      "['6.69', 0, 1, 1, 2, 2, 1, 1, 1, 2, 3, 2, 1, '1.5', '55', '81.1', '11.3', '6.5', '6.7', '6.6', '7.1', '6.7', '6.6', '6.7', '6.3', '6.8', '6.9', '7']\n",
      "['6.80', 2, 2, 1, 1, 3, 0, 1, 0, 2, 1, 2, 0, '1.5', '55.7', '82.8', '13', '6.6', '6.8', '7.1', '6.9', '6.9', '6.9', '7', '7.2', '7', '7.1', '6.8']\n",
      "['6.60', 0, 1, 0, 2, 0, 2, 2, 2, 2, 1, 0, 1, '1.3', '49.7', '81.7', '8.9', '6.7', '6.7', '6.6', '7', '6.5', '6.6', '6.8', '7', '6.8', '6.9', '6.4']\n",
      "['6.46', 0, 1, 0, 1, 1, 2, 0, 1, 0, 1, 0, 2, '0.8', '47.4', '74.2', '10.7', '6.5', '6.6', '6.7', '6.8', '6.9', '6.7', '6.2', '6.8', '6.9', '6.4', '6.4']\n",
      "['6.70', 0, 1, 3, 1, 2, 0, 0, 1, 1, 2, 2, 1, '1.1', '48.4', '75.8', '10.9', '6.6', '7', '7', '6.8', '7', '6.8', '7.1', '7', '6.7', '7.1', '6.6']\n",
      "['6.54', 0, 0, 1, 2, 0, 3, 1, 0, 0, 0, 1, 0, '0.7', '45.3', '72', '11.1', '6.8', '6.6', '6.6', '7', '6.8', '7', '6.7', '6.7', '6.5', '6.9', '6.7']\n",
      "['6.94', 1, 0, 2, 2, 2, 2, 4, 1, 1, 0, 1, 0, '2.2', '62.9', '88.7', '12.8', '6.6', '6.8', '6.9', '7.1', '6.9', '6.9', '7.3', '7.2', '7.6', '8.9', '7.1']\n",
      "['6.61', 1, 0, 2, 1, 2, 0, 0, 0, 0, 3, 2, 1, '1.2', '48.5', '70.4', '12.3', '6.4', '6.9', '7', '6.7', '6.8', '6.9', '7', '6.5', '7.5', '6.6', '7']\n",
      "['6.62', 1, 0, 2, 4, 0, 2, 1, 1, 3, 0, 0, 1, '1.3', '55', '83', '12.6', '6.3', '6.8', '6.5', '6.5', '6.5', '6.4', '7.5', '7', '6.8', '6.5', '7.2']\n",
      "['6.53', 0, 1, 1, 2, 0, 2, 0, 1, 0, 2, 0, 0, '0.9', '43.7', '69.9', '8.3', '6.4', '6.5', '6.6', '6.6', '6.5', '6.6', '6.7', '6.5', '6.8', '7.3', '6.4']\n",
      "['6.61', 1, 0, 2, 2, 1, 5, 1, 1, 1, 1, 1, 2, '1', '51.3', '80.5', '9.5', '6.5', '6.9', '6.6', '6.4', '6.5', '6.8', '7', '6.6', '6.8', '6.6', '7']\n",
      "['6.58', 0, 1, 4, 2, 0, 0, 1, 1, 0, 2, 1, 2, '1.2', '48.7', '78.1', '11.3', '7', '6.7', '6.6', '6.9', '6.6', '6.8', '6.9', '7.1', '6.7', '6.6', '6.8']\n",
      "['6.68', 1, 0, 2, 4, 1, 2, 1, 4, 3, 1, 1, 3, '1.2', '48.7', '79.3', '11.7', '6.7', '6.3', '7', '5.9', '6.6', '6.4', '6.4', '6.8', '7', '6.5', '7.1']\n",
      "['6.57', 1, 4, 2, 2, 1, 3, 2, 2, 1, 2, 2, 0, '1.3', '49.9', '81.3', '11.8', '6.7', '6.3', '6.8', '6.6', '6.8', '6.9', '6.4', '7.2', '6.3', '6.2', '7']\n",
      "['6.51', 0, 1, 1, 3, 2, 2, 0, 3, 0, 3, 0, 2, '0.7', '47.4', '80.7', '12.6', '6.8', '6.5', '6.6', '6.5', '6.3', '6.2', '6.6', '6.8', '6.7', '6.9', '6.8']\n",
      "['6.84', 3, 3, 2, 1, 6, 0, 1, 2, 2, 2, 3, 1, '2.1', '52.9', '85.2', '17', '6.7', '6.9', '6.8', '6.8', '6.9', '6.5', '6.9', '6.9', '7.2', '7.4', '7.2']\n",
      "['6.84', 0, 2, 3, 0, 1, 1, 3, 1, 5, 0, 1, 0, '1.6', '59.8', '80.1', '16.4', '6.5', '7.2', '7', '7.1', '7', '7.1', '6.7', '7.1', '6.7', '6.9', '6.9']\n",
      "['6.63', 1, 0, 0, 0, 2, 0, 0, 4, 1, 1, 0, 0, '1.1', '51.5', '68.6', '13.9', '6.5', '6.6', '6.4', '7', '6.3', '6.5', '6.4', '6.6', '6.3', '6.6', '6.4']\n",
      "['6.68', 2, 1, 0, 2, 0, 0, 1, 0, 1, 0, 1, 1, '0.6', '51.4', '80.1', '12.9', '7', '6.6', '6.6', '6.8', '7.1', '7.1', '6.6', '6.4', '6.2', '6.8', '7']\n",
      "['6.71', 1, 10, 2, 1, 1, 1, 0, 0, 1, 2, 0, 0, '1.6', '50.4', '73.4', '15.6', '6.4', '6.8', '6.8', '6.7', '7.2', '6.7', '7', '6.9', '7.5', '7.1', '6.9']\n",
      "['6.67', 2, 1, 0, 0, 0, 0, 1, 1, 2, 1, 1, 1, '0.8', '43.6', '71.2', '10.9', '6.8', '6.6', '6.7', '7.1', '7.2', '6.6', '6.6', '6.9', '6.4', '6.3', '6.9']\n",
      "['6.67', 3, 2, 0, 0, 1, 1, 0, 1, 1, 2, 2, 0, '0.9', '50.4', '77.2', '14.3', '6.5', '6.9', '6.7', '6.5', '7.1', '7', '7', '6.5', '6.8', '7.2', '6.7']\n",
      "['6.82', 1, 0, 2, 0, 1, 1, 0, 0, 1, 1, 1, 1, '1.4', '53.3', '79.6', '15.7', '7.1', '7', '6.9', '7.3', '6.7', '7', '7', '7.1', '6.9', '7.7', '7.2']\n",
      "['6.79', 0, 4, 0, 0, 2, 0, 4, 0, 4, 0, 1, 1, '1.4', '53.2', '79.8', '16.7', '6.7', '7.2', '6.6', '7', '6.9', '5.6', '6.6', '7.1', '6.9', '6.6', '7.7']\n",
      "['6.62', 1, 2, 1, 2, 1, 2, 3, 2, 1, 2, 1, 2, '1.2', '44', '72.9', '10.9', '6.3', '6.8', '6.7', '6.8', '6.6', '6.7', '6.6', '6.7', '7', '7.4', '7']\n",
      "['6.77', 10, 1, 1, 1, 1, 1, 0, 0, 1, 2, 1, 0, '1.4', '45.8', '74.3', '13.9', '6.9', '7', '6.7', '7.2', '6.8', '6.8', '7.6', '6.8', '7.1', '7.9', '7.7']\n"
     ]
    }
   ],
   "source": [
    "for game in games_list[:-2]:\n",
    "    gamesToReport.append([game.find('td', class_ = 'team home').a.getText(),\"VS\",game.find('td', class_ = 'team away').a.getText()])\n",
    "    gameTFile.append(getTeamInfo(game.find('td', class_ = 'team home')) + getTeamInfo(game.find('td', class_ = 'team away')))"
   ]
  },
  {
   "cell_type": "code",
   "execution_count": 19,
   "metadata": {},
   "outputs": [],
   "source": [
    "with open('games.csv', 'w', newline='') as file:\n",
    "    writer = csv.writer(file)\n",
    "    for game in gameTFile:\n",
    "        writer.writerow(game)\n",
    "with open('results.csv', 'w', newline='') as file:\n",
    "    writer = csv.writer(file)\n",
    "    writer.writerow([\"t1\",\"VS\",\"t2\"])\n",
    "    for game in gamesToReport:\n",
    "        writer.writerow(game)"
   ]
  },
  {
   "cell_type": "code",
   "execution_count": 18,
   "metadata": {},
   "outputs": [
    {
     "name": "stdout",
     "output_type": "stream",
     "text": [
      "[['Everton', 'VS', 'Aston Villa'], ['Leicester', 'VS', 'Sheffield United'], ['Crystal Palace', 'VS', 'Manchester United'], ['Southampton', 'VS', 'Brighton'], ['Eibar', 'VS', 'Real Valladolid'], ['Getafe', 'VS', 'Atletico Madrid'], ['Mallorca', 'VS', 'Granada'], ['Real Madrid', 'VS', 'Villarreal'], ['Real Sociedad', 'VS', 'Sevilla'], ['Valencia', 'VS', 'Espanyol'], ['Athletic Bilbao', 'VS', 'Leganes'], ['Barcelona', 'VS', 'Osasuna'], ['Real Betis', 'VS', 'Deportivo Alaves'], ['Celta Vigo', 'VS', 'Levante'], ['Torino', 'VS', 'Genoa'], ['SPAL 2013', 'VS', 'Inter'], ['Leeds', 'VS', 'Barnsley'], ['Rubin Kazan', 'VS', 'FC Rostov'], ['FC Ufa', 'VS', 'Dinamo Moscow'], ['Lokomotiv Moscow', 'VS', 'CSKA Moscow'], ['FC Tambov', 'VS', 'PFC Sochi'], ['Dynamo Kyiv', 'VS', 'Zorya']]\n"
     ]
    }
   ],
   "source": [
    "print(gamesToReport)"
   ]
  },
  {
   "cell_type": "code",
   "execution_count": 14,
   "metadata": {},
   "outputs": [],
   "source": [
    "game=BeautifulSoup('<tr class=\"item ls-4 stream-is-available\" id=\"i1458601\" data-group-id=\"18478\"><td class=\"ls-s selection\"><input type=\"checkbox\" id=\"is1458601\"></td><td class=\"toolbar left\"></td><td class=\"time\">17:00</td><td class=\"status\"><span class=\"status-4 rc\"></span></td><td class=\"topmatch-column\"></td><td class=\"team home\"><a class=\"team-link\" href=\"/Teams/350/Show/Ukraine-Dynamo-Kyiv\"><span class=\"team-name\">Dynamo Kyiv</span></a></td><td class=\"result\"><a class=\"livestream-link\" href=\"/Matches/1458601/LiveStream/Ukraine-Premier-League-2019-2020-Dynamo-Kyiv-Zorya\">Watch Live</a><a class=\"result-4 rc\" href=\"/Matches/1458601/Show/Ukraine-Premier-League-2019-2020-Dynamo-Kyiv-Zorya\">vs</a></td><td class=\"team away\"><a class=\"team-link\" href=\"/Teams/3753/Show/Ukraine-Zorya\"><span class=\"team-name\">Zorya</span></a></td><td class=\"stage ls-t\"><a href=\"/Regions/230/Tournaments/114/Seasons/7813/Stages/18478/Show/Ukraine-Premier-League-2019-2020\" class=\"iconize iconize-icon-left\"><span class=\"ui-icon country flg-ua\"></span>UPL</a></td><td class=\"toolbar right\"><div style=\"width:12.75em;\"><a href=\"/Matches/1458601/LiveStream/Ukraine-Premier-League-2019-2020-Dynamo-Kyiv-Zorya\" class=\"iconize \"><span class=\"incidents-icon ui-icon stream\">Stream</span></a></div></td></tr>', 'html.parser')\n",
    "gamesToReport.append([game.find('td', class_ = 'team home').a.getText(),\"VS\",game.find('td', class_ = 'team away').a.getText()])\n",
    "gameTFile.append(getTeamInfo(game.find('td', class_ = 'team home')) + getTeamInfo(game.find('td', class_ = 'team away')))"
   ]
  },
  {
   "cell_type": "code",
   "execution_count": 17,
   "metadata": {},
   "outputs": [
    {
     "name": "stdout",
     "output_type": "stream",
     "text": [
      "['6.82', 2, 0, 2, 1, 2, 3, 2, 3, 1, 1, 2, 2, '1.2', '60.9', '83.8', '18.3', '6.2', '6.6', '7.1', '7', '7.6', '7.2', '7.3', '7', '6.5', '7.2', '6.9']\n",
      "['6.54', 1, 0, 1, 3, 2, 1, 0, 0, 2, 2, 2, 0, '0.5', '47.9', '72.8', '11']\n"
     ]
    }
   ],
   "source": []
  },
  {
   "cell_type": "code",
   "execution_count": null,
   "metadata": {},
   "outputs": [],
   "source": []
  }
 ],
 "metadata": {
  "kernelspec": {
   "display_name": "Python 3",
   "language": "python",
   "name": "python3"
  },
  "language_info": {
   "codemirror_mode": {
    "name": "ipython",
    "version": 3
   },
   "file_extension": ".py",
   "mimetype": "text/x-python",
   "name": "python",
   "nbconvert_exporter": "python",
   "pygments_lexer": "ipython3",
   "version": "3.7.7"
  }
 },
 "nbformat": 4,
 "nbformat_minor": 4
}
