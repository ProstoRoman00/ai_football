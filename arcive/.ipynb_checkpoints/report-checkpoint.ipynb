{
 "cells": [
  {
   "cell_type": "code",
   "execution_count": 1,
   "metadata": {},
   "outputs": [],
   "source": [
    "import csv"
   ]
  },
  {
   "cell_type": "code",
   "execution_count": 6,
   "metadata": {},
   "outputs": [],
   "source": [
    "teams=[]\n",
    "ai1=[]\n",
    "ai2=[]\n",
    "ai3=[]\n",
    "act=[]\n",
    "with open('results_a.csv') as csv_file:\n",
    "    csv_reader = csv.reader(csv_file, delimiter=';')\n",
    "    predF = [[0,0,0],[0,0,0]]\n",
    "    next(csv_reader)\n",
    "    for row in csv_reader:\n",
    "        teams.append(row[0:3])\n",
    "        ai1.append(row[3:5])\n",
    "        ai2.append(row[5:7])\n",
    "        ai3.append(row[7:9])\n",
    "        act.append(row[9:11])\n",
    "for i in range(0,len(act)):\n",
    "    ai1[i]=[round(float(ai1[i][0])*10),round(float(ai1[i][1])*10)]\n",
    "    ai2[i]=[round(float(ai2[i][0])*10),round(float(ai2[i][1])*10)]\n",
    "    ai3[i]=[round(float(ai3[i][0])*10),round(float(ai3[i][1])*10)]\n",
    "    act[i]=[int(act[i][0]),int(act[i][1])]\n",
    "    if(ai1[i]==act[i]):\n",
    "        predF[0][0]=predF[0][0]+1;\n",
    "    if((ai1[i][0]>ai1[i][1] and act[i][0]>act[i][1]) or (ai1[i][0]<ai1[i][1] and act[i][0]<act[i][1]) or (ai1[i][0]==ai1[i][1] and act[i][0]==act[i][1])):\n",
    "        predF[1][0]=predF[1][0]+1;\n",
    "    if(ai2[i]==act[i]):\n",
    "        predF[0][1]=predF[0][1]+1;\n",
    "    if((ai2[i][0]>ai2[i][1] and act[i][0]>act[i][1]) or (ai2[i][0]<ai2[i][1] and act[i][0]<act[i][1]) or (ai2[i][0]==ai2[i][1] and act[i][0]==act[i][1])):\n",
    "        predF[1][1]=predF[1][1]+1;\n",
    "    if(ai3[i]==act[i]):\n",
    "        predF[0][2]=predF[0][2]+1;\n",
    "    if((ai3[i][0]>ai3[i][1] and act[i][0]>act[i][1]) or (ai3[i][0]<ai3[i][1] and act[i][0]<act[i][1]) or (ai3[i][0]==ai3[i][1] and act[i][0]==act[i][1])):\n",
    "        predF[1][2]=predF[1][2]+1;"
   ]
  },
  {
   "cell_type": "code",
   "execution_count": 7,
   "metadata": {},
   "outputs": [],
   "source": [
    "predF.append(\"16-07-20\")\n",
    "with open('results_days.csv', 'a+', newline='') as write_obj:\n",
    "    csv_writer = csv.writer(write_obj)\n",
    "    csv_writer.writerow(predF)"
   ]
  },
  {
   "cell_type": "code",
   "execution_count": null,
   "metadata": {},
   "outputs": [],
   "source": []
  }
 ],
 "metadata": {
  "kernelspec": {
   "display_name": "Python 3",
   "language": "python",
   "name": "python3"
  },
  "language_info": {
   "codemirror_mode": {
    "name": "ipython",
    "version": 3
   },
   "file_extension": ".py",
   "mimetype": "text/x-python",
   "name": "python",
   "nbconvert_exporter": "python",
   "pygments_lexer": "ipython3",
   "version": "3.7.7"
  }
 },
 "nbformat": 4,
 "nbformat_minor": 2
}
